{
 "cells": [
  {
   "cell_type": "markdown",
   "id": "51358861-e2d1-4a13-871e-fb20b7345503",
   "metadata": {},
   "source": [
    "1)Determine the most common price range among all the restaurants.\n",
    "2)Calculate the average rating for each price range.\n",
    "3)Identify the color that represents the highest average rating among different price ranges.\r\n"
   ]
  },
  {
   "cell_type": "code",
   "execution_count": 2,
   "id": "c3797615-b94f-45a0-ba4c-f97315c8658f",
   "metadata": {},
   "outputs": [],
   "source": [
    "import pandas as pd\n",
    "df = pd.read_csv('Dataset .csv')"
   ]
  },
  {
   "cell_type": "code",
   "execution_count": 3,
   "id": "7c03713d-7b0c-4796-bbff-24bf485a97b2",
   "metadata": {},
   "outputs": [
    {
     "name": "stdout",
     "output_type": "stream",
     "text": [
      "The most common price range among all restaurants is:1\n"
     ]
    }
   ],
   "source": [
    "price_counts = df['Price range'].value_counts()\n",
    "\n",
    "\n",
    "most_common_price_range = price_counts.idxmax()\n",
    "\n",
    "print(f\"The most common price range among all restaurants is:{most_common_price_range}\")"
   ]
  },
  {
   "cell_type": "code",
   "execution_count": 4,
   "id": "43e0b8fa-a512-4de1-81a5-3a3fb07316f1",
   "metadata": {},
   "outputs": [
    {
     "name": "stdout",
     "output_type": "stream",
     "text": [
      "Average rating for each price range:Price range\n",
      "1    1.999887\n",
      "2    2.941054\n",
      "3    3.683381\n",
      "4    3.817918\n",
      "Name: Aggregate rating, dtype: float64\n"
     ]
    }
   ],
   "source": [
    "average_ratings = df.groupby('Price range')['Aggregate rating'].mean()\n",
    "print(f\"Average rating for each price range:{average_ratings}\")"
   ]
  },
  {
   "cell_type": "code",
   "execution_count": 5,
   "id": "614a3f67-4af3-4857-9ca2-8a559c5a9d5d",
   "metadata": {},
   "outputs": [
    {
     "name": "stdout",
     "output_type": "stream",
     "text": [
      "The color that represents the highest average rating among different price ranges is:dark green\n"
     ]
    }
   ],
   "source": [
    "highest_average_rating_price_range = average_ratings.idxmax()\n",
    "price_range_to_color = {\n",
    "    '$': 'dark green',\n",
    "    '$$ - $$$': 'green',\n",
    "    '$$$$': 'orange',\n",
    "    '$$': 'white',\n",
    "    '$$$$$$': 'red',\n",
    "    '$$$$-$$$$':'yellow'\n",
    "    }\n",
    "color_for_highest_rating = price_range_to_color.get(highest_average_rating_price_range,'dark green')\n",
    "\n",
    "print(f\"The color that represents the highest average rating among different price ranges is:{color_for_highest_rating}\")"
   ]
  },
  {
   "cell_type": "code",
   "execution_count": null,
   "id": "d58ad323-01b7-4146-b078-b2c051fb2ba4",
   "metadata": {},
   "outputs": [],
   "source": []
  }
 ],
 "metadata": {
  "kernelspec": {
   "display_name": "Python 3 (ipykernel)",
   "language": "python",
   "name": "python3"
  },
  "language_info": {
   "codemirror_mode": {
    "name": "ipython",
    "version": 3
   },
   "file_extension": ".py",
   "mimetype": "text/x-python",
   "name": "python",
   "nbconvert_exporter": "python",
   "pygments_lexer": "ipython3",
   "version": "3.11.7"
  }
 },
 "nbformat": 4,
 "nbformat_minor": 5
}
