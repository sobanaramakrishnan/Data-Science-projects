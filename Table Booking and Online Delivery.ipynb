{
 "cells": [
  {
   "cell_type": "markdown",
   "id": "484278d9-2a43-4b78-a556-ca77e3a3cf4a",
   "metadata": {},
   "source": [
    "Determine the percentage of restaurants that \n",
    "offer table booking and online delivery."
   ]
  },
  {
   "cell_type": "code",
   "execution_count": 11,
   "id": "ea9bc246-be94-48c5-8e56-8d3a47b4b827",
   "metadata": {},
   "outputs": [],
   "source": [
    "import pandas as pd\n",
    "df = pd.read_csv('C:/Users/Administrator/Downloads/Dataset .csv')"
   ]
  },
  {
   "cell_type": "code",
   "execution_count": 12,
   "id": "97bdaa2f-ee8f-478c-983b-0999980f4276",
   "metadata": {},
   "outputs": [
    {
     "name": "stdout",
     "output_type": "stream",
     "text": [
      "Percentage of restaurants that offer table booking: 12.12%\n",
      "Percentage of restaurants that offer online delivery: 25.66%\n",
      "Percentage of restaurants that offer both services: 4.55%\n"
     ]
    }
   ],
   "source": [
    "\n",
    "df.dropna(subset=['Has Table booking', 'Has Online delivery'], inplace=True)\n",
    "df['Has Table booking'] = df['Has Table booking'].map({'Yes': 1, 'No': 0})\n",
    "df['Has Online delivery'] = df['Has Online delivery'].map({'Yes': 1, 'No': 0})\n",
    "total_restaurants = len(df)\n",
    "table_booking_count = df['Has Table booking'].sum()\n",
    "online_delivery_count = df['Has Online delivery'].sum()\n",
    "both_services_count = df[(df['Has Table booking'] == 1) & (df['Has Online delivery'] == 1)].shape[0]\n",
    "table_booking_percentage = (table_booking_count / total_restaurants) * 100\n",
    "online_delivery_percentage = (online_delivery_count / total_restaurants) * 100\n",
    "both_services_percentage = (both_services_count / total_restaurants) * 100\n",
    "\n",
    "print(f\"Percentage of restaurants that offer table booking: {table_booking_percentage:.2f}%\")\n",
    "print(f\"Percentage of restaurants that offer online delivery: {online_delivery_percentage:.2f}%\")\n",
    "print(f\"Percentage of restaurants that offer both services: {both_services_percentage:.2f}%\")\n"
   ]
  },
  {
   "cell_type": "markdown",
   "id": "b108e69e-8540-4b07-974a-998f4c3d6870",
   "metadata": {},
   "source": [
    "Compare the average ratings of restaurants \n",
    "with table booking and those without."
   ]
  },
  {
   "cell_type": "code",
   "execution_count": 10,
   "id": "60be2e2b-6138-4207-aa0c-1f8272918dc3",
   "metadata": {},
   "outputs": [
    {
     "name": "stdout",
     "output_type": "stream",
     "text": [
      "Average rating for restaurants with table booking: 3.44\n",
      "Average rating for restaurants without table booking: 2.56\n"
     ]
    }
   ],
   "source": [
    "avg_rating_with_booking = df[df['Has Table booking'] == 1]['Aggregate rating'].mean()\n",
    "avg_rating_without_booking = df[df['Has Table booking'] == 0]['Aggregate rating'].mean()\n",
    "print(f\"Average rating for restaurants with table booking: {avg_rating_with_booking:.2f}\")\n",
    "print(f\"Average rating for restaurants without table booking: {avg_rating_without_booking:.2f}\")"
   ]
  },
  {
   "cell_type": "markdown",
   "id": "d4001562-af5a-4ee2-9caf-d713fd469c7b",
   "metadata": {},
   "source": [
    "Analyze the availability of online delivery among restaurants with different price ranges."
   ]
  },
  {
   "cell_type": "code",
   "execution_count": 13,
   "id": "54e7109b-40fa-4a86-90ac-c58314a949cf",
   "metadata": {},
   "outputs": [
    {
     "name": "stdout",
     "output_type": "stream",
     "text": [
      "Percentage of restaurants offering online delivery by price range:\n",
      "Price range\n",
      "1    15.774077\n",
      "2    41.310633\n",
      "3    29.190341\n",
      "4     9.044369\n",
      "Name: Has Online delivery, dtype: float64\n"
     ]
    }
   ],
   "source": [
    "price_range_delivery = df.groupby('Price range')['Has Online delivery'].mean() * 100\n",
    "\n",
    "print(\"Percentage of restaurants offering online delivery by price range:\")\n",
    "print(price_range_delivery)"
   ]
  },
  {
   "cell_type": "code",
   "execution_count": null,
   "id": "785db1e8-b9a2-41fb-8ca4-b7d173ca1567",
   "metadata": {},
   "outputs": [],
   "source": []
  }
 ],
 "metadata": {
  "kernelspec": {
   "display_name": "Python 3 (ipykernel)",
   "language": "python",
   "name": "python3"
  },
  "language_info": {
   "codemirror_mode": {
    "name": "ipython",
    "version": 3
   },
   "file_extension": ".py",
   "mimetype": "text/x-python",
   "name": "python",
   "nbconvert_exporter": "python",
   "pygments_lexer": "ipython3",
   "version": "3.11.7"
  }
 },
 "nbformat": 4,
 "nbformat_minor": 5
}
